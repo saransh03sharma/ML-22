{
 "cells": [
  {
   "cell_type": "code",
   "execution_count": 1,
   "id": "a9d65a21",
   "metadata": {},
   "outputs": [],
   "source": [
    "import pandas as pd\n",
    "import numpy as np\n",
    "import seaborn as sns\n",
    "import matplotlib.pyplot as plt\n",
    "import sklearn\n",
    "from sklearn import svm"
   ]
  },
  {
   "cell_type": "code",
   "execution_count": 2,
   "id": "5a82cf52",
   "metadata": {},
   "outputs": [],
   "source": [
    "data = pd.read_csv(\"iris.data\",names=[\"Sepal Length\", \"Sepal Width\",\"Petal Length\" ,\"Petal Width\", \"Class Label\"])"
   ]
  },
  {
   "cell_type": "code",
   "execution_count": 3,
   "id": "ebf479ec",
   "metadata": {},
   "outputs": [
    {
     "data": {
      "text/html": [
       "<div>\n",
       "<style scoped>\n",
       "    .dataframe tbody tr th:only-of-type {\n",
       "        vertical-align: middle;\n",
       "    }\n",
       "\n",
       "    .dataframe tbody tr th {\n",
       "        vertical-align: top;\n",
       "    }\n",
       "\n",
       "    .dataframe thead th {\n",
       "        text-align: right;\n",
       "    }\n",
       "</style>\n",
       "<table border=\"1\" class=\"dataframe\">\n",
       "  <thead>\n",
       "    <tr style=\"text-align: right;\">\n",
       "      <th></th>\n",
       "      <th>Sepal Length</th>\n",
       "      <th>Sepal Width</th>\n",
       "      <th>Petal Length</th>\n",
       "      <th>Petal Width</th>\n",
       "      <th>Class Label</th>\n",
       "    </tr>\n",
       "  </thead>\n",
       "  <tbody>\n",
       "    <tr>\n",
       "      <th>0</th>\n",
       "      <td>5.1</td>\n",
       "      <td>3.5</td>\n",
       "      <td>1.4</td>\n",
       "      <td>0.2</td>\n",
       "      <td>Iris-setosa</td>\n",
       "    </tr>\n",
       "    <tr>\n",
       "      <th>1</th>\n",
       "      <td>4.9</td>\n",
       "      <td>3.0</td>\n",
       "      <td>1.4</td>\n",
       "      <td>0.2</td>\n",
       "      <td>Iris-setosa</td>\n",
       "    </tr>\n",
       "    <tr>\n",
       "      <th>2</th>\n",
       "      <td>4.7</td>\n",
       "      <td>3.2</td>\n",
       "      <td>1.3</td>\n",
       "      <td>0.2</td>\n",
       "      <td>Iris-setosa</td>\n",
       "    </tr>\n",
       "    <tr>\n",
       "      <th>3</th>\n",
       "      <td>4.6</td>\n",
       "      <td>3.1</td>\n",
       "      <td>1.5</td>\n",
       "      <td>0.2</td>\n",
       "      <td>Iris-setosa</td>\n",
       "    </tr>\n",
       "    <tr>\n",
       "      <th>4</th>\n",
       "      <td>5.0</td>\n",
       "      <td>3.6</td>\n",
       "      <td>1.4</td>\n",
       "      <td>0.2</td>\n",
       "      <td>Iris-setosa</td>\n",
       "    </tr>\n",
       "  </tbody>\n",
       "</table>\n",
       "</div>"
      ],
      "text/plain": [
       "   Sepal Length  Sepal Width  Petal Length  Petal Width  Class Label\n",
       "0           5.1          3.5           1.4          0.2  Iris-setosa\n",
       "1           4.9          3.0           1.4          0.2  Iris-setosa\n",
       "2           4.7          3.2           1.3          0.2  Iris-setosa\n",
       "3           4.6          3.1           1.5          0.2  Iris-setosa\n",
       "4           5.0          3.6           1.4          0.2  Iris-setosa"
      ]
     },
     "execution_count": 3,
     "metadata": {},
     "output_type": "execute_result"
    }
   ],
   "source": [
    "data.head()"
   ]
  },
  {
   "cell_type": "code",
   "execution_count": 4,
   "id": "7558f00d",
   "metadata": {},
   "outputs": [],
   "source": [
    "data = data.drop_duplicates(keep='first')"
   ]
  },
  {
   "cell_type": "code",
   "execution_count": 5,
   "id": "d99dafc0",
   "metadata": {},
   "outputs": [],
   "source": [
    "y = data[\"Class Label\"] \n",
    "x = data.drop(\"Class Label\",axis = 1 )"
   ]
  },
  {
   "cell_type": "code",
   "execution_count": 6,
   "id": "f636435e",
   "metadata": {},
   "outputs": [
    {
     "data": {
      "text/html": [
       "<div>\n",
       "<style scoped>\n",
       "    .dataframe tbody tr th:only-of-type {\n",
       "        vertical-align: middle;\n",
       "    }\n",
       "\n",
       "    .dataframe tbody tr th {\n",
       "        vertical-align: top;\n",
       "    }\n",
       "\n",
       "    .dataframe thead th {\n",
       "        text-align: right;\n",
       "    }\n",
       "</style>\n",
       "<table border=\"1\" class=\"dataframe\">\n",
       "  <thead>\n",
       "    <tr style=\"text-align: right;\">\n",
       "      <th></th>\n",
       "      <th>Sepal Length</th>\n",
       "      <th>Sepal Width</th>\n",
       "      <th>Petal Length</th>\n",
       "      <th>Petal Width</th>\n",
       "    </tr>\n",
       "  </thead>\n",
       "  <tbody>\n",
       "    <tr>\n",
       "      <th>count</th>\n",
       "      <td>147.000000</td>\n",
       "      <td>147.000000</td>\n",
       "      <td>147.000000</td>\n",
       "      <td>147.000000</td>\n",
       "    </tr>\n",
       "    <tr>\n",
       "      <th>mean</th>\n",
       "      <td>5.856463</td>\n",
       "      <td>3.055782</td>\n",
       "      <td>3.780272</td>\n",
       "      <td>1.208844</td>\n",
       "    </tr>\n",
       "    <tr>\n",
       "      <th>std</th>\n",
       "      <td>0.829100</td>\n",
       "      <td>0.437009</td>\n",
       "      <td>1.759111</td>\n",
       "      <td>0.757874</td>\n",
       "    </tr>\n",
       "    <tr>\n",
       "      <th>min</th>\n",
       "      <td>4.300000</td>\n",
       "      <td>2.000000</td>\n",
       "      <td>1.000000</td>\n",
       "      <td>0.100000</td>\n",
       "    </tr>\n",
       "    <tr>\n",
       "      <th>25%</th>\n",
       "      <td>5.100000</td>\n",
       "      <td>2.800000</td>\n",
       "      <td>1.600000</td>\n",
       "      <td>0.300000</td>\n",
       "    </tr>\n",
       "    <tr>\n",
       "      <th>50%</th>\n",
       "      <td>5.800000</td>\n",
       "      <td>3.000000</td>\n",
       "      <td>4.400000</td>\n",
       "      <td>1.300000</td>\n",
       "    </tr>\n",
       "    <tr>\n",
       "      <th>75%</th>\n",
       "      <td>6.400000</td>\n",
       "      <td>3.300000</td>\n",
       "      <td>5.100000</td>\n",
       "      <td>1.800000</td>\n",
       "    </tr>\n",
       "    <tr>\n",
       "      <th>max</th>\n",
       "      <td>7.900000</td>\n",
       "      <td>4.400000</td>\n",
       "      <td>6.900000</td>\n",
       "      <td>2.500000</td>\n",
       "    </tr>\n",
       "  </tbody>\n",
       "</table>\n",
       "</div>"
      ],
      "text/plain": [
       "       Sepal Length  Sepal Width  Petal Length  Petal Width\n",
       "count    147.000000   147.000000    147.000000   147.000000\n",
       "mean       5.856463     3.055782      3.780272     1.208844\n",
       "std        0.829100     0.437009      1.759111     0.757874\n",
       "min        4.300000     2.000000      1.000000     0.100000\n",
       "25%        5.100000     2.800000      1.600000     0.300000\n",
       "50%        5.800000     3.000000      4.400000     1.300000\n",
       "75%        6.400000     3.300000      5.100000     1.800000\n",
       "max        7.900000     4.400000      6.900000     2.500000"
      ]
     },
     "execution_count": 6,
     "metadata": {},
     "output_type": "execute_result"
    }
   ],
   "source": [
    "x.describe()"
   ]
  },
  {
   "cell_type": "code",
   "execution_count": 7,
   "id": "5be8565b",
   "metadata": {},
   "outputs": [],
   "source": [
    "def normalize(x):\n",
    "    mean = x.mean(axis=0)\n",
    "    std = x.std(axis=0)\n",
    "    x_n = (x - mean)/std\n",
    "    return x_n"
   ]
  },
  {
   "cell_type": "code",
   "execution_count": 8,
   "id": "9cae53da",
   "metadata": {},
   "outputs": [],
   "source": [
    "x_norm = normalize(x)"
   ]
  },
  {
   "cell_type": "code",
   "execution_count": 9,
   "id": "4e8b639a",
   "metadata": {},
   "outputs": [],
   "source": [
    "col = x.columns"
   ]
  },
  {
   "cell_type": "code",
   "execution_count": 10,
   "id": "12b96d0b",
   "metadata": {},
   "outputs": [],
   "source": [
    "x = pd.DataFrame(x_norm, columns = col)\n"
   ]
  },
  {
   "cell_type": "code",
   "execution_count": 11,
   "id": "2a08381b",
   "metadata": {
    "scrolled": true
   },
   "outputs": [
    {
     "data": {
      "text/html": [
       "<div>\n",
       "<style scoped>\n",
       "    .dataframe tbody tr th:only-of-type {\n",
       "        vertical-align: middle;\n",
       "    }\n",
       "\n",
       "    .dataframe tbody tr th {\n",
       "        vertical-align: top;\n",
       "    }\n",
       "\n",
       "    .dataframe thead th {\n",
       "        text-align: right;\n",
       "    }\n",
       "</style>\n",
       "<table border=\"1\" class=\"dataframe\">\n",
       "  <thead>\n",
       "    <tr style=\"text-align: right;\">\n",
       "      <th></th>\n",
       "      <th>Sepal Length</th>\n",
       "      <th>Sepal Width</th>\n",
       "      <th>Petal Length</th>\n",
       "      <th>Petal Width</th>\n",
       "    </tr>\n",
       "  </thead>\n",
       "  <tbody>\n",
       "    <tr>\n",
       "      <th>count</th>\n",
       "      <td>1.470000e+02</td>\n",
       "      <td>1.470000e+02</td>\n",
       "      <td>1.470000e+02</td>\n",
       "      <td>1.470000e+02</td>\n",
       "    </tr>\n",
       "    <tr>\n",
       "      <th>mean</th>\n",
       "      <td>-2.443104e-15</td>\n",
       "      <td>-3.147898e-15</td>\n",
       "      <td>-1.380604e-15</td>\n",
       "      <td>-6.185528e-16</td>\n",
       "    </tr>\n",
       "    <tr>\n",
       "      <th>std</th>\n",
       "      <td>1.000000e+00</td>\n",
       "      <td>1.000000e+00</td>\n",
       "      <td>1.000000e+00</td>\n",
       "      <td>1.000000e+00</td>\n",
       "    </tr>\n",
       "    <tr>\n",
       "      <th>min</th>\n",
       "      <td>-1.877292e+00</td>\n",
       "      <td>-2.415930e+00</td>\n",
       "      <td>-1.580498e+00</td>\n",
       "      <td>-1.463097e+00</td>\n",
       "    </tr>\n",
       "    <tr>\n",
       "      <th>25%</th>\n",
       "      <td>-9.123902e-01</td>\n",
       "      <td>-5.853026e-01</td>\n",
       "      <td>-1.239417e+00</td>\n",
       "      <td>-1.199201e+00</td>\n",
       "    </tr>\n",
       "    <tr>\n",
       "      <th>50%</th>\n",
       "      <td>-6.810107e-02</td>\n",
       "      <td>-1.276458e-01</td>\n",
       "      <td>3.522961e-01</td>\n",
       "      <td>1.202791e-01</td>\n",
       "    </tr>\n",
       "    <tr>\n",
       "      <th>75%</th>\n",
       "      <td>6.555753e-01</td>\n",
       "      <td>5.588394e-01</td>\n",
       "      <td>7.502244e-01</td>\n",
       "      <td>7.800192e-01</td>\n",
       "    </tr>\n",
       "    <tr>\n",
       "      <th>max</th>\n",
       "      <td>2.464766e+00</td>\n",
       "      <td>3.075952e+00</td>\n",
       "      <td>1.773469e+00</td>\n",
       "      <td>1.703655e+00</td>\n",
       "    </tr>\n",
       "  </tbody>\n",
       "</table>\n",
       "</div>"
      ],
      "text/plain": [
       "       Sepal Length   Sepal Width  Petal Length   Petal Width\n",
       "count  1.470000e+02  1.470000e+02  1.470000e+02  1.470000e+02\n",
       "mean  -2.443104e-15 -3.147898e-15 -1.380604e-15 -6.185528e-16\n",
       "std    1.000000e+00  1.000000e+00  1.000000e+00  1.000000e+00\n",
       "min   -1.877292e+00 -2.415930e+00 -1.580498e+00 -1.463097e+00\n",
       "25%   -9.123902e-01 -5.853026e-01 -1.239417e+00 -1.199201e+00\n",
       "50%   -6.810107e-02 -1.276458e-01  3.522961e-01  1.202791e-01\n",
       "75%    6.555753e-01  5.588394e-01  7.502244e-01  7.800192e-01\n",
       "max    2.464766e+00  3.075952e+00  1.773469e+00  1.703655e+00"
      ]
     },
     "execution_count": 11,
     "metadata": {},
     "output_type": "execute_result"
    }
   ],
   "source": [
    "x.describe()"
   ]
  },
  {
   "cell_type": "code",
   "execution_count": 12,
   "id": "a9ad0208",
   "metadata": {},
   "outputs": [
    {
     "data": {
      "text/plain": [
       "0    Iris-setosa\n",
       "1    Iris-setosa\n",
       "2    Iris-setosa\n",
       "3    Iris-setosa\n",
       "4    Iris-setosa\n",
       "Name: Class Label, dtype: object"
      ]
     },
     "execution_count": 12,
     "metadata": {},
     "output_type": "execute_result"
    }
   ],
   "source": [
    "y.head()"
   ]
  },
  {
   "cell_type": "code",
   "execution_count": 13,
   "id": "6c5077fe",
   "metadata": {},
   "outputs": [],
   "source": [
    "df = pd.concat([x,y],axis=1)"
   ]
  },
  {
   "cell_type": "code",
   "execution_count": 14,
   "id": "134dda8a",
   "metadata": {},
   "outputs": [],
   "source": [
    "d = df.sample(frac = 1,random_state=42) #returns a randomly jumbles data\n",
    "div = int(0.8 * d.shape[0])#calculate 80 percent of the number of input datapoints\n",
    "d.loc[data['Class Label']==\"Iris-setosa\",\"Class Label\"]=0\n",
    "d.loc[data['Class Label']==\"Iris-versicolor\",\"Class Label\"]=1\n",
    "d.loc[data['Class Label']==\"Iris-virginica\",\"Class Label\"]=2\n",
    "\n",
    "d_train, d_test = d.iloc[:div,:], d.iloc[div:,:]#split the data into test and train\n",
    "    \n",
    "d_train_x = d_train.iloc[:,:-1].values#set training data featutre matrix\n",
    "d_train_y = d_train.iloc[:,-1].values#set training data output label\n",
    "d_test_x = d_test.iloc[:,:-1].values#set test data feature matrix\n",
    "d_test_y = d_test.iloc[:,-1].values#set test data output label\n"
   ]
  },
  {
   "cell_type": "code",
   "execution_count": 15,
   "id": "e4a781c7",
   "metadata": {},
   "outputs": [
    {
     "data": {
      "text/plain": [
       "(117, 4)"
      ]
     },
     "execution_count": 15,
     "metadata": {},
     "output_type": "execute_result"
    }
   ],
   "source": [
    "d_train_x.shape"
   ]
  },
  {
   "cell_type": "code",
   "execution_count": 16,
   "id": "2ed7b315",
   "metadata": {},
   "outputs": [
    {
     "data": {
      "text/plain": [
       "(117,)"
      ]
     },
     "execution_count": 16,
     "metadata": {},
     "output_type": "execute_result"
    }
   ],
   "source": [
    "d_train_y.shape\n"
   ]
  },
  {
   "cell_type": "code",
   "execution_count": 17,
   "id": "f9e50c10",
   "metadata": {},
   "outputs": [],
   "source": [
    "d_train_y = d_train_y.astype(\"int\")"
   ]
  },
  {
   "cell_type": "code",
   "execution_count": 27,
   "id": "fb26d1a0",
   "metadata": {},
   "outputs": [
    {
     "name": "stdout",
     "output_type": "stream",
     "text": [
      "SVM with Linear kernel: [0.96666667]\n"
     ]
    }
   ],
   "source": [
    "clf = svm.SVC(kernel='linear')\n",
    "clf.fit(d_train_x, d_train_y)\n",
    "y_pred = clf.predict(d_test_x)\n",
    "print(\"SVM with Linear kernel:\",np.sum(y_pred == d_test_y.astype(\"int\"))/d_test_y.shape)"
   ]
  },
  {
   "cell_type": "code",
   "execution_count": 28,
   "id": "f6ce5b1e",
   "metadata": {},
   "outputs": [
    {
     "name": "stdout",
     "output_type": "stream",
     "text": [
      "SVM with quadratic kernel:  [0.86666667]\n"
     ]
    }
   ],
   "source": [
    "clf = svm.SVC(kernel='poly',degree=2)\n",
    "clf.fit(d_train_x, d_train_y)\n",
    "y_pred = clf.predict(d_test_x)\n",
    "print(\"SVM with quadratic kernel: \",np.sum(y_pred == d_test_y.astype(\"int\"))/d_test_y.shape)"
   ]
  },
  {
   "cell_type": "code",
   "execution_count": 29,
   "id": "0bc4329e",
   "metadata": {},
   "outputs": [
    {
     "name": "stdout",
     "output_type": "stream",
     "text": [
      "SVM with radial basis function kernel:  [0.96666667]\n"
     ]
    }
   ],
   "source": [
    "clf = svm.SVC(kernel='rbf')\n",
    "clf.fit(d_train_x, d_train_y)\n",
    "y_pred = clf.predict(d_test_x)\n",
    "\n",
    "print(\"SVM with radial basis function kernel: \",np.sum(y_pred == d_test_y.astype(\"int\"))/d_test_y.shape)"
   ]
  },
  {
   "cell_type": "code",
   "execution_count": 31,
   "id": "d277d818",
   "metadata": {},
   "outputs": [],
   "source": [
    "from sklearn import neural_network"
   ]
  },
  {
   "cell_type": "code",
   "execution_count": 62,
   "id": "15c9872f",
   "metadata": {},
   "outputs": [
    {
     "name": "stdout",
     "output_type": "stream",
     "text": [
      "Accuracy:  [0.96666667]\n"
     ]
    }
   ],
   "source": [
    "model = neural_network.MLPClassifier(hidden_layer_sizes =(16),solver='sgd',batch_size=32, alpha = 0.001,max_iter=2000 )\n",
    "model.fit(d_train_x,d_train_y)\n",
    "y_pred = model.predict(d_test_x)\n",
    "print(\"Accuracy: \",np.sum(y_pred == d_test_y.astype(\"int\"))/d_test_y.shape)"
   ]
  },
  {
   "cell_type": "code",
   "execution_count": 63,
   "id": "ca70bf21",
   "metadata": {},
   "outputs": [
    {
     "name": "stdout",
     "output_type": "stream",
     "text": [
      "Accuracy:  [0.96666667]\n"
     ]
    }
   ],
   "source": [
    "model = neural_network.MLPClassifier(hidden_layer_sizes =(256,16),solver='sgd',batch_size=32, alpha = 0.001,max_iter=2000 )\n",
    "model.fit(d_train_x,d_train_y)\n",
    "y_pred = model.predict(d_test_x)\n",
    "print(\"Accuracy: \",np.sum(y_pred == d_test_y.astype(\"int\"))/d_test_y.shape)"
   ]
  },
  {
   "cell_type": "code",
   "execution_count": 72,
   "id": "288096cd",
   "metadata": {},
   "outputs": [],
   "source": [
    "x=[]\n",
    "for i in [0.1,0.01,0.001,0.0001,0.00001]:\n",
    "    model = neural_network.MLPClassifier(hidden_layer_sizes =(16),solver='sgd',batch_size=32, alpha = 0.001,max_iter=2000 )\n",
    "    model.fit(d_train_x,d_train_y)\n",
    "    y_pred = model.predict(d_test_x)\n",
    "    x.append(np.sum(y_pred == d_test_y.astype(\"int\"))/d_test_y.shape)\n",
    "    "
   ]
  },
  {
   "cell_type": "code",
   "execution_count": 73,
   "id": "6186361c",
   "metadata": {},
   "outputs": [
    {
     "data": {
      "text/plain": [
       "[<matplotlib.lines.Line2D at 0x21f033062b0>]"
      ]
     },
     "execution_count": 73,
     "metadata": {},
     "output_type": "execute_result"
    },
    {
     "data": {
      "image/png": "[encoded data removed]",
      "text/plain": [
       "<Figure size 432x288 with 1 Axes>"
      ]
     },
     "metadata": {
      "needs_background": "light"
     },
     "output_type": "display_data"
    }
   ],
   "source": [
    "plt.plot([0.1,0.01,0.001,0.0001,0.00001],x)"
   ]
  },
  {
   "cell_type": "code",
   "execution_count": 74,
   "id": "3eee7cfe",
   "metadata": {},
   "outputs": [],
   "source": [
    "x=[]\n",
    "for i in [0.1,0.01,0.001,0.0001,0.00001]:\n",
    "    model = neural_network.MLPClassifier(hidden_layer_sizes =(256,16),solver='sgd',batch_size=32, alpha = 0.001,max_iter=2000 )\n",
    "    model.fit(d_train_x,d_train_y)\n",
    "    y_pred = model.predict(d_test_x)\n",
    "    x.append(np.sum(y_pred == d_test_y.astype(\"int\"))/d_test_y.shape)\n",
    "    "
   ]
  },
  {
   "cell_type": "code",
   "execution_count": 75,
   "id": "55b1305e",
   "metadata": {},
   "outputs": [
    {
     "data": {
      "text/plain": [
       "[<matplotlib.lines.Line2D at 0x21f03c140a0>]"
      ]
     },
     "execution_count": 75,
     "metadata": {},
     "output_type": "execute_result"
    },
    {
     "data": {
      "image/png": "[encoded data removed]",
      "text/plain": [
       "<Figure size 432x288 with 1 Axes>"
      ]
     },
     "metadata": {
      "needs_background": "light"
     },
     "output_type": "display_data"
    }
   ],
   "source": [
    "plt.plot([0.1,0.01,0.001,0.0001,0.00001],x)"
   ]
  },
  {
   "cell_type": "code",
   "execution_count": null,
   "id": "a04c365b",
   "metadata": {},
   "outputs": [],
   "source": []
  }
 ],
 "metadata": {
  "kernelspec": {
   "display_name": "Python 3 (ipykernel)",
   "language": "python",
   "name": "python3"
  },
  "language_info": {
   "codemirror_mode": {
    "name": "ipython",
    "version": 3
   },
   "file_extension": ".py",
   "mimetype": "text/x-python",
   "name": "python",
   "nbconvert_exporter": "python",
   "pygments_lexer": "ipython3",
   "version": "3.9.7"
  }
 },
 "nbformat": 4,
 "nbformat_minor": 5
}
