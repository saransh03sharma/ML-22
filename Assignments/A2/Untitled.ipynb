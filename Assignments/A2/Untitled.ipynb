{
 "cells": [
  {
   "cell_type": "markdown",
   "id": "418d2534",
   "metadata": {},
   "source": [
    "## Important imports"
   ]
  },
  {
   "cell_type": "code",
   "execution_count": 1,
   "id": "a9d65a21",
   "metadata": {},
   "outputs": [],
   "source": [
    "#for data handling\n",
    "import pandas as pd\n",
    "import numpy as np\n",
    "\n",
    "#for plotting\n",
    "import seaborn as sns\n",
    "import matplotlib.pyplot as plt\n",
    "plt.rcParams['axes.facecolor']='white'\n",
    "plt.rcParams['savefig.facecolor']='white'\n",
    "\n",
    "\n",
    "#for svm and mlp classifier\n",
    "import sklearn\n",
    "from sklearn import svm\n",
    "from sklearn import neural_network\n",
    "\n",
    "pd.options.mode.chained_assignment = None  \n"
   ]
  },
  {
   "cell_type": "markdown",
   "id": "5384946c",
   "metadata": {},
   "source": [
    "## Dataset processing"
   ]
  },
  {
   "cell_type": "code",
   "execution_count": 2,
   "id": "5a82cf52",
   "metadata": {},
   "outputs": [],
   "source": [
    "#Dataframe reading with appropriate columns\n",
    "data = pd.read_csv(\"iris.data\",names=[\"Sepal Length\", \"Sepal Width\",\"Petal Length\" ,\"Petal Width\", \"Class Label\"])"
   ]
  },
  {
   "cell_type": "code",
   "execution_count": 3,
   "id": "ebf479ec",
   "metadata": {},
   "outputs": [
    {
     "name": "stdout",
     "output_type": "stream",
     "text": [
      "Shape of data:  (150, 5)\n",
      "   Sepal Length  Sepal Width  Petal Length  Petal Width  Class Label\n",
      "0           5.1          3.5           1.4          0.2  Iris-setosa\n",
      "1           4.9          3.0           1.4          0.2  Iris-setosa\n",
      "2           4.7          3.2           1.3          0.2  Iris-setosa\n",
      "3           4.6          3.1           1.5          0.2  Iris-setosa\n",
      "4           5.0          3.6           1.4          0.2  Iris-setosa\n"
     ]
    }
   ],
   "source": [
    "#print First Five entries of the dataframe\n",
    "print(\"Shape of data: \",data.shape)\n",
    "print(data.head())"
   ]
  },
  {
   "cell_type": "code",
   "execution_count": 4,
   "id": "7558f00d",
   "metadata": {},
   "outputs": [
    {
     "name": "stdout",
     "output_type": "stream",
     "text": [
      "Shape of data after dropping duplicates:  (147, 5)\n"
     ]
    }
   ],
   "source": [
    "#drop duplicate entries if any\n",
    "data = data.drop_duplicates(keep='first')\n",
    "print(\"Shape of data after dropping duplicates: \",data.shape)"
   ]
  },
  {
   "cell_type": "code",
   "execution_count": 5,
   "id": "d99dafc0",
   "metadata": {},
   "outputs": [],
   "source": [
    "#extract x and y\n",
    "y = data[\"Class Label\"] \n",
    "x = data.drop(\"Class Label\",axis = 1 )"
   ]
  },
  {
   "cell_type": "code",
   "execution_count": 6,
   "id": "f636435e",
   "metadata": {},
   "outputs": [
    {
     "name": "stdout",
     "output_type": "stream",
     "text": [
      "       Sepal Length  Sepal Width  Petal Length  Petal Width\n",
      "count    147.000000   147.000000    147.000000   147.000000\n",
      "mean       5.856463     3.055782      3.780272     1.208844\n",
      "std        0.829100     0.437009      1.759111     0.757874\n",
      "min        4.300000     2.000000      1.000000     0.100000\n",
      "25%        5.100000     2.800000      1.600000     0.300000\n",
      "50%        5.800000     3.000000      4.400000     1.300000\n",
      "75%        6.400000     3.300000      5.100000     1.800000\n",
      "max        7.900000     4.400000      6.900000     2.500000\n"
     ]
    }
   ],
   "source": [
    "#find basic statistical details about x\n",
    "print(x.describe())"
   ]
  },
  {
   "cell_type": "markdown",
   "id": "5dfc0b09",
   "metadata": {},
   "source": [
    "## Standard Scalar Normalization"
   ]
  },
  {
   "cell_type": "code",
   "execution_count": 7,
   "id": "5be8565b",
   "metadata": {},
   "outputs": [],
   "source": [
    "#Standard Scalar Normalization of x\n",
    "def normalize(x):\n",
    "    mean = x.mean(axis=0)\n",
    "    std = x.std(axis=0)\n",
    "    x_n = (x - mean)/std\n",
    "    return x_n"
   ]
  },
  {
   "cell_type": "code",
   "execution_count": 8,
   "id": "9cae53da",
   "metadata": {},
   "outputs": [],
   "source": [
    "x_norm = normalize(x)"
   ]
  },
  {
   "cell_type": "code",
   "execution_count": 9,
   "id": "4e8b639a",
   "metadata": {},
   "outputs": [],
   "source": [
    "col = x.columns"
   ]
  },
  {
   "cell_type": "code",
   "execution_count": 10,
   "id": "12b96d0b",
   "metadata": {},
   "outputs": [],
   "source": [
    "x = pd.DataFrame(x_norm, columns = col)\n"
   ]
  },
  {
   "cell_type": "code",
   "execution_count": 11,
   "id": "2a08381b",
   "metadata": {
    "scrolled": true
   },
   "outputs": [
    {
     "name": "stdout",
     "output_type": "stream",
     "text": [
      "       Sepal Length   Sepal Width  Petal Length   Petal Width\n",
      "count  1.470000e+02  1.470000e+02  1.470000e+02  1.470000e+02\n",
      "mean  -2.443104e-15 -3.147898e-15 -1.380604e-15 -6.185528e-16\n",
      "std    1.000000e+00  1.000000e+00  1.000000e+00  1.000000e+00\n",
      "min   -1.877292e+00 -2.415930e+00 -1.580498e+00 -1.463097e+00\n",
      "25%   -9.123902e-01 -5.853026e-01 -1.239417e+00 -1.199201e+00\n",
      "50%   -6.810107e-02 -1.276458e-01  3.522961e-01  1.202791e-01\n",
      "75%    6.555753e-01  5.588394e-01  7.502244e-01  7.800192e-01\n",
      "max    2.464766e+00  3.075952e+00  1.773469e+00  1.703655e+00\n"
     ]
    }
   ],
   "source": [
    "print(x.describe())"
   ]
  },
  {
   "cell_type": "code",
   "execution_count": 12,
   "id": "53bb32ea",
   "metadata": {},
   "outputs": [
    {
     "name": "stdout",
     "output_type": "stream",
     "text": [
      "After normalization, mean of each column is close to 0 while standard deviation of each column is close to 1\n"
     ]
    }
   ],
   "source": [
    "print(\"After normalization, mean of each column is close to 0 while standard deviation of each column is close to 1\")"
   ]
  },
  {
   "cell_type": "markdown",
   "id": "371a2636",
   "metadata": {},
   "source": [
    "## Random splitting of data into test and training dataset"
   ]
  },
  {
   "cell_type": "code",
   "execution_count": 13,
   "id": "6c5077fe",
   "metadata": {},
   "outputs": [],
   "source": [
    "#re-concatenate x and y to form dataframe\n",
    "df = pd.concat([x,y],axis=1)"
   ]
  },
  {
   "cell_type": "code",
   "execution_count": 14,
   "id": "134dda8a",
   "metadata": {},
   "outputs": [],
   "source": [
    "d = df.sample(frac = 1,random_state=2) #returns a randomly jumbles data\n",
    "div = int(0.8 * d.shape[0])#calculate 80 percent of the number of input datapoints\n",
    "\n",
    "#categorical encoding\n",
    "d.loc[data['Class Label']==\"Iris-setosa\",\"Class Label\"]=0\n",
    "d.loc[data['Class Label']==\"Iris-versicolor\",\"Class Label\"]=1\n",
    "d.loc[data['Class Label']==\"Iris-virginica\",\"Class Label\"]=2\n",
    "\n",
    "d_train, d_test = d.iloc[:div,:], d.iloc[div:,:]#split the data into test and train\n",
    "    \n",
    "d_train_x = d_train.iloc[:,:-1].values#set training data featutre matrix\n",
    "d_train_y = d_train.iloc[:,-1].values#set training data output label\n",
    "d_test_x = d_test.iloc[:,:-1].values#set test data feature matrix\n",
    "d_test_y = d_test.iloc[:,-1].values#set test data output label\n",
    "d_train_y = d_train_y.astype(\"int\")\n",
    "d_test_y = d_test_y.astype(\"int\")"
   ]
  },
  {
   "cell_type": "code",
   "execution_count": 15,
   "id": "e4a781c7",
   "metadata": {},
   "outputs": [
    {
     "name": "stdout",
     "output_type": "stream",
     "text": [
      "Training Dataset shape:  (117, 5)\n"
     ]
    }
   ],
   "source": [
    "print(\"Training Dataset shape: \",d_train.shape)"
   ]
  },
  {
   "cell_type": "code",
   "execution_count": 16,
   "id": "2ed7b315",
   "metadata": {},
   "outputs": [
    {
     "name": "stdout",
     "output_type": "stream",
     "text": [
      "Testing Dataset shape:  (30, 5)\n"
     ]
    }
   ],
   "source": [
    "print(\"Testing Dataset shape: \",d_test.shape)\n"
   ]
  },
  {
   "cell_type": "markdown",
   "id": "3ae70550",
   "metadata": {},
   "source": [
    "## SVM with linear kernel"
   ]
  },
  {
   "cell_type": "code",
   "execution_count": 17,
   "id": "fb26d1a0",
   "metadata": {},
   "outputs": [
    {
     "name": "stdout",
     "output_type": "stream",
     "text": [
      "SVM Classifier with Linear kernel...........\n",
      "SVM with Linear kernel: [0.9]\n"
     ]
    }
   ],
   "source": [
    "print(\"SVM Classifier with Linear kernel...........\")\n",
    "clf = svm.SVC(kernel='linear',random_state=42)\n",
    "clf.fit(d_train_x, d_train_y)\n",
    "y_pred = clf.predict(d_test_x)\n",
    "print(\"SVM with Linear kernel:\",np.sum(y_pred == d_test_y.astype(\"int\"))/d_test_y.shape)"
   ]
  },
  {
   "cell_type": "markdown",
   "id": "708af33e",
   "metadata": {},
   "source": [
    "## SVM with quadratic kernel "
   ]
  },
  {
   "cell_type": "code",
   "execution_count": 18,
   "id": "f6ce5b1e",
   "metadata": {},
   "outputs": [
    {
     "name": "stdout",
     "output_type": "stream",
     "text": [
      "SVM Classifier with Quadratic kernel.........\n",
      "SVM with quadratic kernel:  [0.83333333]\n"
     ]
    }
   ],
   "source": [
    "print(\"SVM Classifier with Quadratic kernel.........\")\n",
    "clf = svm.SVC(kernel='poly',degree=2,random_state=42)\n",
    "clf.fit(d_train_x, d_train_y)\n",
    "y_pred = clf.predict(d_test_x)\n",
    "print(\"SVM with quadratic kernel: \",np.sum(y_pred == d_test_y.astype(\"int\"))/d_test_y.shape)"
   ]
  },
  {
   "cell_type": "markdown",
   "id": "23401c3f",
   "metadata": {},
   "source": [
    "## SVM with radial basis function kernel"
   ]
  },
  {
   "cell_type": "code",
   "execution_count": 19,
   "id": "0bc4329e",
   "metadata": {},
   "outputs": [
    {
     "name": "stdout",
     "output_type": "stream",
     "text": [
      "SVM CLassifer with radial basis function kernel........\n",
      "SVM with radial basis function kernel:  [0.93333333]\n"
     ]
    }
   ],
   "source": [
    "print(\"SVM CLassifer with radial basis function kernel........\")\n",
    "clf = svm.SVC(kernel='rbf',random_state=42)\n",
    "clf.fit(d_train_x, d_train_y)\n",
    "y_pred = clf.predict(d_test_x)\n",
    "\n",
    "print(\"SVM with radial basis function kernel: \",np.sum(y_pred == d_test_y.astype(\"int\"))/d_test_y.shape)"
   ]
  },
  {
   "cell_type": "markdown",
   "id": "a47d7ceb",
   "metadata": {},
   "source": [
    "## MLP with 16 nodes hidden layers"
   ]
  },
  {
   "cell_type": "code",
   "execution_count": 20,
   "id": "15c9872f",
   "metadata": {},
   "outputs": [
    {
     "name": "stdout",
     "output_type": "stream",
     "text": [
      "MLP Classifer with one hidden layer of 16 nodes.........\n",
      "Accuracy of One 16 node hidden layer MLP Classifier:  [0.93333333]\n"
     ]
    }
   ],
   "source": [
    "print(\"MLP Classifer with one hidden layer of 16 nodes.........\")\n",
    "model_1 = neural_network.MLPClassifier(hidden_layer_sizes =(16),solver='sgd',batch_size=32, alpha = 0.001,max_iter=2000,shuffle=False,random_state=2 )\n",
    "model_1.fit(d_train_x,d_train_y)\n",
    "y_pred_one_layer = model_1.predict(d_test_x)\n",
    "print(\"Accuracy of One 16 node hidden layer MLP Classifier: \",np.sum(y_pred_one_layer == d_test_y.astype(\"int\"))/d_test_y.shape)\n",
    "accuracy_1 = np.sum(y_pred_one_layer == d_test_y.astype(\"int\"))/d_test_y.shape"
   ]
  },
  {
   "cell_type": "markdown",
   "id": "d2943c10",
   "metadata": {},
   "source": [
    "## MLP with 256,16 nodes hidden layers"
   ]
  },
  {
   "cell_type": "code",
   "execution_count": 21,
   "id": "ca70bf21",
   "metadata": {},
   "outputs": [
    {
     "name": "stdout",
     "output_type": "stream",
     "text": [
      "MLP Classifer with two hidden layer of 256 and 16 nodes.........\n",
      "Accuracy of 256,16 node hidden layer MLP Classifier:  [0.9]\n"
     ]
    }
   ],
   "source": [
    "print(\"MLP Classifer with two hidden layer of 256 and 16 nodes.........\")\n",
    "model_2 = neural_network.MLPClassifier(hidden_layer_sizes =(256,16),solver='sgd',batch_size=32, alpha = 0.001,max_iter=2000,shuffle=False,random_state=2 )\n",
    "model_2.fit(d_train_x,d_train_y)\n",
    "y_pred_two_layer = model_2.predict(d_test_x)\n",
    "print(\"Accuracy of 256,16 node hidden layer MLP Classifier: \",np.sum(y_pred_two_layer == d_test_y.astype(\"int\"))/d_test_y.shape)\n",
    "accuracy_2 = np.sum(y_pred_two_layer == d_test_y.astype(\"int\"))/d_test_y.shape"
   ]
  },
  {
   "cell_type": "markdown",
   "id": "6b0ef143",
   "metadata": {},
   "source": [
    "## Best MLP Variant accuracy vs learning rate"
   ]
  },
  {
   "cell_type": "code",
   "execution_count": 22,
   "id": "71688d00",
   "metadata": {},
   "outputs": [
    {
     "name": "stdout",
     "output_type": "stream",
     "text": [
      "Model 1 with one hidden layer has better accuracy\n"
     ]
    }
   ],
   "source": [
    "if accuracy_1 > accuracy_2:\n",
    "    print(\"Model 1 with one hidden layer has better accuracy\")\n",
    "else:\n",
    "     print(\"Model 2 with two hidden layers has better accuracy\")"
   ]
  },
  {
   "cell_type": "code",
   "execution_count": 23,
   "id": "288096cd",
   "metadata": {},
   "outputs": [],
   "source": [
    "x=[]\n",
    "y = []\n",
    "for i in [0.00001,0.0001,0.001,0.01,0.1]:\n",
    "    if accuracy_1 > accuracy_2:\n",
    "        model = neural_network.MLPClassifier(hidden_layer_sizes =(16),solver='sgd',batch_size=32, alpha = i,max_iter=2000 ,shuffle=False,random_state=2)\n",
    "    else:\n",
    "        model = neural_network.MLPClassifier(hidden_layer_sizes =(256,16),solver='sgd',batch_size=32, alpha = i,max_iter=2000,shuffle=False,random_state=2 )\n",
    "    model.fit(d_train_x,d_train_y)\n",
    "    y.append([model.n_iter_,model.loss_curve_])\n",
    "    y_pred = model.predict(d_test_x)\n",
    "    x.append(np.sum(y_pred == d_test_y.astype(\"int\"))/d_test_y.shape)\n",
    "    "
   ]
  },
  {
   "cell_type": "markdown",
   "id": "4e4c184d",
   "metadata": {},
   "source": [
    "## Best MLP variant Error vs learning rate curve"
   ]
  },
  {
   "cell_type": "code",
   "execution_count": 24,
   "id": "62ee22f3",
   "metadata": {},
   "outputs": [
    {
     "data": {
      "image/png": "[encoded data removed]",
      "text/plain": [
       "<Figure size 432x288 with 1 Axes>"
      ]
     },
     "metadata": {
      "needs_background": "light"
     },
     "output_type": "display_data"
    }
   ],
   "source": [
    "plt.title(\"Best MLP classifier Error vs number of iterations curve\")\n",
    "plt.plot(np.arange(1, y[0][0]+1),y[0][1]);\n",
    "plt.xlabel(\"Number of iteration\");\n",
    "plt.ylabel(\"Error for learning rate = 0.00001\");\n",
    "plt.savefig('error_0.00001.png', bbox_inches='tight')"
   ]
  },
  {
   "cell_type": "code",
   "execution_count": 25,
   "id": "d148fe10",
   "metadata": {
    "scrolled": true
   },
   "outputs": [
    {
     "data": {
      "image/png": "[encoded data removed]",
      "text/plain": [
       "<Figure size 432x288 with 1 Axes>"
      ]
     },
     "metadata": {
      "needs_background": "light"
     },
     "output_type": "display_data"
    }
   ],
   "source": [
    "plt.title(\"Best MLP classifier Error vs number of iterations curve\")\n",
    "plt.plot(np.arange(1, y[1][0]+1),y[1][1]);\n",
    "plt.xlabel(\"Number of iteration\");\n",
    "plt.ylabel(\"Error learning rate = 0.0001\");\n",
    "\n",
    "plt.savefig('error_0.0001.png', bbox_inches='tight')"
   ]
  },
  {
   "cell_type": "code",
   "execution_count": 26,
   "id": "922afac9",
   "metadata": {},
   "outputs": [
    {
     "data": {
      "image/png": "[encoded data removed]",
      "text/plain": [
       "<Figure size 432x288 with 1 Axes>"
      ]
     },
     "metadata": {
      "needs_background": "light"
     },
     "output_type": "display_data"
    }
   ],
   "source": [
    "plt.title(\"Best MLP classifier Error vs number of iterations curve\")\n",
    "plt.plot(np.arange(1, y[2][0]+1),y[2][1]);\n",
    "plt.xlabel(\"Number of iteration\");\n",
    "plt.ylabel(\"Error for learning rate = 0.001\");\n",
    "\n",
    "plt.savefig('error_0.001.png', bbox_inches='tight')"
   ]
  },
  {
   "cell_type": "code",
   "execution_count": 27,
   "id": "6ef30db2",
   "metadata": {},
   "outputs": [
    {
     "data": {
      "image/png": "[encoded data removed]",
      "text/plain": [
       "<Figure size 432x288 with 1 Axes>"
      ]
     },
     "metadata": {
      "needs_background": "light"
     },
     "output_type": "display_data"
    }
   ],
   "source": [
    "plt.title(\"Best MLP classifier Error vs number of iterations curve\")\n",
    "plt.plot(np.arange(1, y[3][0]+1),y[3][1]);\n",
    "plt.xlabel(\"Number of iteration\");\n",
    "plt.ylabel(\"Error for learning rate = 0.01\");\n",
    "\n",
    "plt.savefig('error_0.01.png', bbox_inches='tight')"
   ]
  },
  {
   "cell_type": "code",
   "execution_count": 28,
   "id": "8138cf4f",
   "metadata": {},
   "outputs": [
    {
     "data": {
      "image/png": "[encoded data removed]",
      "text/plain": [
       "<Figure size 432x288 with 1 Axes>"
      ]
     },
     "metadata": {
      "needs_background": "light"
     },
     "output_type": "display_data"
    }
   ],
   "source": [
    "plt.title(\"Best MLP classifier Error vs number of iterations curve\")\n",
    "plt.plot(np.arange(1, y[4][0]+1),y[4][1]);\n",
    "plt.xlabel(\"Number of iteration\");\n",
    "plt.ylabel(\"Error for learning rate = 0.1\");\n",
    "plt.savefig('error_0.1.png', bbox_inches='tight')"
   ]
  },
  {
   "cell_type": "code",
   "execution_count": 29,
   "id": "6186361c",
   "metadata": {},
   "outputs": [
    {
     "data": {
      "image/png": "[encoded data removed]",
      "text/plain": [
       "<Figure size 432x288 with 1 Axes>"
      ]
     },
     "metadata": {
      "needs_background": "light"
     },
     "output_type": "display_data"
    }
   ],
   "source": [
    "plt.title(\"Best MLP classifier Accuracy vs learning rate curve\")\n",
    "plt.plot(['0.00001','0.0001','0.001','0.01','0.1'],x);\n",
    "plt.xlabel(\"Learning Rate\");\n",
    "plt.ylabel(\"Accuracy\");\n",
    "\n",
    "plt.savefig('accuracy vs learning_rate.png', bbox_inches='tight')"
   ]
  },
  {
   "cell_type": "code",
   "execution_count": 30,
   "id": "a04c365b",
   "metadata": {},
   "outputs": [],
   "source": [
    "#find the best of the two variants of MLP classifier\n",
    "if accuracy_1> accuracy_2:\n",
    "    model = model_1\n",
    "    accuracy = accuracy_1\n",
    "else:\n",
    "    model = model_2\n",
    "    accuracy = accuracy_2"
   ]
  },
  {
   "cell_type": "code",
   "execution_count": 31,
   "id": "61f1a26d",
   "metadata": {},
   "outputs": [
    {
     "name": "stdout",
     "output_type": "stream",
     "text": [
      "Following is the best variabt of MLP classifier: \n",
      "MLPClassifier(alpha=0.001, batch_size=32, hidden_layer_sizes=16, max_iter=2000,\n",
      "              random_state=2, shuffle=False, solver='sgd')\n"
     ]
    }
   ],
   "source": [
    "print(\"Following is the best variabt of MLP classifier: \")\n",
    "print(model)"
   ]
  },
  {
   "cell_type": "markdown",
   "id": "95905f0c",
   "metadata": {},
   "source": [
    "## Backward elimination"
   ]
  },
  {
   "cell_type": "code",
   "execution_count": 32,
   "id": "2bbd3ffa",
   "metadata": {},
   "outputs": [],
   "source": [
    "features = d.columns"
   ]
  },
  {
   "cell_type": "code",
   "execution_count": 33,
   "id": "ee246bec",
   "metadata": {},
   "outputs": [],
   "source": [
    "features = features[:-1]"
   ]
  },
  {
   "cell_type": "code",
   "execution_count": 34,
   "id": "cb1b6854",
   "metadata": {},
   "outputs": [
    {
     "name": "stdout",
     "output_type": "stream",
     "text": [
      "Index(['Sepal Length', 'Sepal Width', 'Petal Length', 'Petal Width'], dtype='object')\n"
     ]
    }
   ],
   "source": [
    "print(features)"
   ]
  },
  {
   "cell_type": "code",
   "execution_count": 35,
   "id": "12b5784c",
   "metadata": {},
   "outputs": [
    {
     "name": "stdout",
     "output_type": "stream",
     "text": [
      "Accuracy before backward elimination:  [0.93333333]\n",
      "Number of features before backward elimination:  4\n"
     ]
    }
   ],
   "source": [
    "d_train_b = d_train\n",
    "d_test_b = d_test\n",
    "print(\"Accuracy before backward elimination: \", accuracy)\n",
    "print(\"Number of features before backward elimination: \", features.shape[0])"
   ]
  },
  {
   "cell_type": "code",
   "execution_count": 36,
   "id": "26717d18",
   "metadata": {},
   "outputs": [
    {
     "name": "stdout",
     "output_type": "stream",
     "text": [
      "Backward Elimination in progress: \n",
      "Features left in each iteration: \n",
      "Index(['Sepal Width', 'Petal Length', 'Petal Width'], dtype='object')\n",
      "Index(['Sepal Width', 'Petal Width'], dtype='object')\n",
      "Index(['Petal Width'], dtype='object')\n"
     ]
    }
   ],
   "source": [
    "print(\"Backward Elimination in progress: \")\n",
    "print(\"Features left in each iteration: \")\n",
    "\n",
    "while features.size >= 2: #do while you have more than 2 features i.e. we have features that can be removed\n",
    "    max_accuracy = 0    #max accuracy initialised to 0\n",
    "    f = \"null\"          #flag to find the index to be dropped \n",
    "     \n",
    "    #find the faeture f of x with maximum E(x-f) where E is accuracy\n",
    "    for i in features:\n",
    "        d_train_elim = d_train_b.drop(i,axis=1)\n",
    "        d_test_elim = d_test_b.drop(i,axis=1)\n",
    "        \n",
    "        d_train_x = d_train_elim.iloc[:,:-1].values#set training data featutre matrix\n",
    "        d_train_y = d_train_elim.iloc[:,-1].values#set training data output label\n",
    "        d_test_x = d_test_elim.iloc[:,:-1].values#set test data feature matrix\n",
    "        d_test_y = d_test_elim.iloc[:,-1].values#set test data output label\n",
    "\n",
    "        d_train_y = d_train_y.astype(\"int\")\n",
    "        d_test_y = d_test_y.astype(\"int\")\n",
    "        \n",
    "        model.fit(d_train_x,d_train_y)\n",
    "        y_pred = model.predict(d_test_x)\n",
    "        temp_accuracy = np.sum(y_pred == d_test_y.astype(\"int\"))/d_test_y.shape\n",
    "        \n",
    "        #find the feature that brings the maximum accuarcy after it is removed from the data\n",
    "        if max_accuracy < temp_accuracy:\n",
    "            f = i\n",
    "            max_accuracy = temp_accuracy\n",
    "\n",
    "    #if the accuracy found after removing a feature is greater or equal to the accuracy of the original model\n",
    "    #update the accuracy and permanently remove the columns\n",
    "    #continue the process for the new set of features\n",
    "    \n",
    "    if max_accuracy >= accuracy:\n",
    "        d_train_b.drop(f,axis=1,inplace=True)\n",
    "        d_test_b.drop(f,axis=1,inplace=True)\n",
    "        features = d_train_b.columns\n",
    "        features = features[:-1] #remove the class label column\n",
    "        accuracy = max_accuracy\n",
    "        \n",
    "    #in case no such feature exists whose reduction brings improvement in accuracy terminate the process\n",
    "    elif max_accuracy < accuracy:\n",
    "        break\n",
    "    print(features)     #print features after every iteration\n",
    "    "
   ]
  },
  {
   "cell_type": "code",
   "execution_count": 37,
   "id": "8ecccd07",
   "metadata": {},
   "outputs": [
    {
     "name": "stdout",
     "output_type": "stream",
     "text": [
      "Accuracy after backward elimination:  [0.93333333]\n",
      "Number of features after backward elimination:  1\n"
     ]
    }
   ],
   "source": [
    "print(\"Accuracy after backward elimination: \", accuracy)\n",
    "print(\"Number of features after backward elimination: \", features.shape[0])"
   ]
  },
  {
   "cell_type": "code",
   "execution_count": 38,
   "id": "19f08bed",
   "metadata": {},
   "outputs": [
    {
     "name": "stdout",
     "output_type": "stream",
     "text": [
      "Columns after backward Elimination:  Index(['Petal Width', 'Class Label'], dtype='object')\n"
     ]
    }
   ],
   "source": [
    "print(\"Columns after backward Elimination: \",d_train_b.columns)"
   ]
  },
  {
   "cell_type": "markdown",
   "id": "884489f9",
   "metadata": {},
   "source": [
    "## Ensemble Learning"
   ]
  },
  {
   "cell_type": "code",
   "execution_count": 39,
   "id": "44128b39",
   "metadata": {},
   "outputs": [],
   "source": [
    "div = int(0.8 * d.shape[0])#calculate 80 percent of the number of input datapoints\n",
    "d_train, d_test = d.iloc[:div,:], d.iloc[div:,:]#split the data into test and train\n",
    "    \n",
    "d_train_x = d_train.iloc[:,:-1].values#set training data featutre matrix\n",
    "d_train_y = d_train.iloc[:,-1].values#set training data output label\n",
    "d_test_x = d_test.iloc[:,:-1].values#set test data feature matrix\n",
    "d_test_y = d_test.iloc[:,-1].values#set test data output label\n",
    "d_train_y = d_train_y.astype(\"int\")\n",
    "d_test_y = d_test_y.astype(\"int\")"
   ]
  },
  {
   "cell_type": "code",
   "execution_count": 40,
   "id": "4c8abbf4",
   "metadata": {},
   "outputs": [],
   "source": [
    "if accuracy_1> accuracy_2:\n",
    "    model = model_1\n",
    "    accuracy = accuracy_1\n",
    "else:\n",
    "    model = model_2\n",
    "    accuracy = accuracy_2"
   ]
  },
  {
   "cell_type": "code",
   "execution_count": 41,
   "id": "5d2555a7",
   "metadata": {},
   "outputs": [
    {
     "name": "stdout",
     "output_type": "stream",
     "text": [
      "SVM with quadratic kernel Accuracy:  [0.93333333]\n"
     ]
    }
   ],
   "source": [
    "clf = svm.SVC(kernel='rbf',random_state=42)\n",
    "clf.fit(d_train_x, d_train_y)\n",
    "y_pred_svm = clf.predict(d_test_x)\n",
    "print(\"SVM with quadratic kernel Accuracy: \",np.sum(y_pred_svm == d_test_y.astype(\"int\"))/d_test_y.shape)"
   ]
  },
  {
   "cell_type": "code",
   "execution_count": 42,
   "id": "2c17dd16",
   "metadata": {},
   "outputs": [
    {
     "name": "stdout",
     "output_type": "stream",
     "text": [
      "SVM with quadratic kernel Accuracy:  [0.83333333]\n"
     ]
    }
   ],
   "source": [
    "clf = svm.SVC(kernel='poly',degree=2,random_state=42)\n",
    "clf.fit(d_train_x, d_train_y)\n",
    "y_pred_svm_q = clf.predict(d_test_x)\n",
    "print(\"SVM with quadratic kernel Accuracy: \",np.sum(y_pred_svm_q == d_test_y.astype(\"int\"))/d_test_y.shape)"
   ]
  },
  {
   "cell_type": "code",
   "execution_count": 43,
   "id": "4082ddbe",
   "metadata": {},
   "outputs": [
    {
     "name": "stdout",
     "output_type": "stream",
     "text": [
      "MLP Classifier Accuracy:  [0.93333333]\n"
     ]
    }
   ],
   "source": [
    "model.fit(d_train_x,d_train_y)\n",
    "y_mlp = model.predict(d_test_x)\n",
    "print(\"MLP Classifier Accuracy: \",np.sum(y_mlp == d_test_y.astype(\"int\"))/d_test_y.shape)"
   ]
  },
  {
   "cell_type": "code",
   "execution_count": 44,
   "id": "309d248d",
   "metadata": {},
   "outputs": [],
   "source": [
    "c = np.stack((y_pred_svm, y_pred_svm_q,y_mlp),axis=0) #make a 2 dimensional array by stacking all individual predicted list as rows"
   ]
  },
  {
   "cell_type": "code",
   "execution_count": 45,
   "id": "931c9850",
   "metadata": {},
   "outputs": [
    {
     "data": {
      "text/plain": [
       "(3, 30)"
      ]
     },
     "execution_count": 45,
     "metadata": {},
     "output_type": "execute_result"
    }
   ],
   "source": [
    "c.shape"
   ]
  },
  {
   "cell_type": "code",
   "execution_count": 46,
   "id": "67b76720",
   "metadata": {},
   "outputs": [
    {
     "name": "stdout",
     "output_type": "stream",
     "text": [
      "Predictions before ensemble learning: \n",
      "[[1 0 1 1 1 1 1 0 2 0 2 1 2 0 2 0 2 2 0 1 0 2 1 0 1 2 0 0 1 0]\n",
      " [1 0 1 1 1 1 1 0 0 0 0 1 2 0 2 0 0 2 0 1 0 2 1 0 1 1 2 0 1 0]\n",
      " [1 0 2 1 1 1 1 0 2 0 2 1 2 0 2 0 2 2 0 1 0 2 1 0 2 2 0 0 1 0]]\n"
     ]
    }
   ],
   "source": [
    "print(\"Predictions before ensemble learning: \")\n",
    "print(c)"
   ]
  },
  {
   "cell_type": "code",
   "execution_count": 47,
   "id": "29d09d1f",
   "metadata": {},
   "outputs": [],
   "source": [
    "c_d = pd.DataFrame(c) #convert c to dataframe"
   ]
  },
  {
   "cell_type": "code",
   "execution_count": 48,
   "id": "360a11ad",
   "metadata": {},
   "outputs": [
    {
     "name": "stdout",
     "output_type": "stream",
     "text": [
      "Predictions after ensemble learning: \n",
      "0     1\n",
      "1     0\n",
      "2     1\n",
      "3     1\n",
      "4     1\n",
      "5     1\n",
      "6     1\n",
      "7     0\n",
      "8     2\n",
      "9     0\n",
      "10    2\n",
      "11    1\n",
      "12    2\n",
      "13    0\n",
      "14    2\n",
      "15    0\n",
      "16    2\n",
      "17    2\n",
      "18    0\n",
      "19    1\n",
      "20    0\n",
      "21    2\n",
      "22    1\n",
      "23    0\n",
      "24    1\n",
      "25    2\n",
      "26    0\n",
      "27    0\n",
      "28    1\n",
      "29    0\n",
      "Name: 0, dtype: int32\n"
     ]
    }
   ],
   "source": [
    "print(\"Predictions after ensemble learning: \")\n",
    "print(c_d.mode().loc[0].astype(\"int\"))"
   ]
  },
  {
   "cell_type": "code",
   "execution_count": 49,
   "id": "fa4e40b3",
   "metadata": {},
   "outputs": [],
   "source": [
    "x = c_d.mode().loc[0].astype(\"int\") #find the mode of columns of c and convert datatype to int"
   ]
  },
  {
   "cell_type": "code",
   "execution_count": 50,
   "id": "92733944",
   "metadata": {},
   "outputs": [
    {
     "name": "stdout",
     "output_type": "stream",
     "text": [
      "Accuracy after ensemble learning:  [0.93333333]\n"
     ]
    }
   ],
   "source": [
    "print(\"Accuracy after ensemble learning: \",np.sum(x == d_test_y.astype(\"int\"))/d_test_y.shape)"
   ]
  },
  {
   "cell_type": "code",
   "execution_count": null,
   "id": "1b0cfc6a",
   "metadata": {},
   "outputs": [],
   "source": []
  }
 ],
 "metadata": {
  "kernelspec": {
   "display_name": "Python 3 (ipykernel)",
   "language": "python",
   "name": "python3"
  },
  "language_info": {
   "codemirror_mode": {
    "name": "ipython",
    "version": 3
   },
   "file_extension": ".py",
   "mimetype": "text/x-python",
   "name": "python",
   "nbconvert_exporter": "python",
   "pygments_lexer": "ipython3",
   "version": "3.9.7"
  }
 },
 "nbformat": 4,
 "nbformat_minor": 5
}
